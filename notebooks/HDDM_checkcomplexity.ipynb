{
 "cells": [
  {
   "cell_type": "code",
   "execution_count": 1,
   "metadata": {
    "collapsed": true
   },
   "outputs": [],
   "source": [
    "\"\"\"\n",
    "Noor Seijdel, 2017\n",
    "\"\"\"\n",
    "import warnings\n",
    "warnings.filterwarnings('ignore')\n",
    "import pandas as pd\n",
    "import numpy as np\n",
    "import seaborn as sns\n",
    "import os.path \n",
    "import hddm\n",
    "from scipy.stats import pearsonr, percentileofscore, ttest_ind, ttest_rel, wilcoxon, ranksums\n",
    "from statsmodels.sandbox.stats.multicomp import multipletests\n",
    "import matplotlib.pyplot as plt\n",
    "from patsy import center\n",
    "import kabuki"
   ]
  },
  {
   "cell_type": "markdown",
   "metadata": {},
   "source": [
    "### We first evaluate five models in which drift rate and/or response boundary are fixed or allowed to vary across instruction (to be fast or accurate) and/or scene complexity (SC/CE)"
   ]
  },
  {
   "cell_type": "code",
   "execution_count": null,
   "metadata": {
    "collapsed": false
   },
   "outputs": [],
   "source": [
    "data = hddm.load_csv('/home/nseijde1/scenestats/hddmregression/exp1_scce.csv') #exp 1 - complexity is indexed by SC and CE\n",
    "data = hddm.load_csv('/home/nseijde1/scenestats/hddmregression/exp2a_sc.csv') #exp 2a - complexity is indexed by SC, CE kept constant\n",
    "data = hddm.load_csv('/home/nseijde1/scenestats/hddmregression/exp2b_ce.csv') #exp 2b - complexity is indexed by CE, SC kept constant\n",
    "\n",
    "data = data[data['rt']>0.1]\n",
    "# create models to test  \n",
    "model0 = hddm.HDDM(data,bias=False)\n",
    "model1 = hddm.HDDM(data,depends_on={'a':'SpAc'}, bias=False)\n",
    "model2 = hddm.HDDM(data,depends_on={'v':'Sc', 'a':'SpAc'}, bias=False)\n",
    "model3 = hddm.HDDM(data,depends_on={'a':['SpAc', 'Sc']}, bias=False)  \n",
    "model4 = hddm.HDDM(data,depends_on={'v':'Sc', 'a':['SpAc', 'Sc']}, bias=False)  \n",
    "\n",
    "# get aprox starting points \n",
    "model0.find_starting_values()\n",
    "model1.find_starting_values()\n",
    "model2.find_starting_values()\n",
    "model3.find_starting_values()\n",
    "model4.find_starting_values()"
   ]
  },
  {
   "cell_type": "code",
   "execution_count": null,
   "metadata": {
    "collapsed": false
   },
   "outputs": [],
   "source": [
    "os.chdir(u'/home/nseijde1/scenestats/complexity/exp1/m4') #exp1 example m4\n",
    "model4.sample(80000, burn=30000, thin=10,dbname='m4trace.db',db='pickle')\n",
    "model4.plot_posteriors(save=True)\n",
    "model4.save('model4')\n",
    "print model4.dic\n",
    "print 'done model model4'"
   ]
  }
 ],
 "metadata": {
  "kernelspec": {
   "display_name": "Python 2",
   "language": "python",
   "name": "python2"
  },
  "language_info": {
   "codemirror_mode": {
    "name": "ipython",
    "version": 2
   },
   "file_extension": ".py",
   "mimetype": "text/x-python",
   "name": "python",
   "nbconvert_exporter": "python",
   "pygments_lexer": "ipython2",
   "version": "2.7.13"
  }
 },
 "nbformat": 4,
 "nbformat_minor": 2
}
