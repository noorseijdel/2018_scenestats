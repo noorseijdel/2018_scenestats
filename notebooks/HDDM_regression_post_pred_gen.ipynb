{
 "cells": [
  {
   "cell_type": "markdown",
   "metadata": {},
   "source": [
    "## Simulate data and compare to actua ldata"
   ]
  },
  {
   "cell_type": "code",
   "execution_count": 2,
   "metadata": {
    "collapsed": true
   },
   "outputs": [],
   "source": [
    "\"\"\"\n",
    "Noor Seijdel, 2019\n",
    "\"\"\"\n",
    "import warnings\n",
    "warnings.filterwarnings('ignore')\n",
    "import pandas as pd\n",
    "import numpy as np\n",
    "import seaborn as sns\n",
    "import os.path \n",
    "import hddm\n",
    "#import statsmodels.api as sm\n",
    "from scipy.stats import pearsonr, percentileofscore, ttest_ind, ttest_rel, wilcoxon, ranksums\n",
    "from statsmodels.sandbox.stats.multicomp import multipletests\n",
    "import matplotlib.pyplot as plt\n",
    "from patsy import center\n",
    "%matplotlib inline \n",
    "cmap = sns.color_palette(\"hls\", 8)\n",
    "sns.set_palette(cmap)\n",
    "sns.set_style(\"white\")\n",
    "import kabuki"
   ]
  },
  {
   "cell_type": "markdown",
   "metadata": {},
   "source": [
    "### Experiment 1 "
   ]
  },
  {
   "cell_type": "code",
   "execution_count": 3,
   "metadata": {
    "collapsed": false
   },
   "outputs": [
    {
     "name": "stdout",
     "output_type": "stream",
     "text": [
      "WARNING: Custom link functions will not be loaded.\n",
      "-8979.74306032\n"
     ]
    }
   ],
   "source": [
    "# Load best model (for DIC other models see dic.csv file)\n",
    "os.chdir('/home/nseijde1/Projects/scenestats/hddmregression/exp1/m9')\n",
    "model = hddm.load('m9')\n",
    "print model.dic"
   ]
  },
  {
   "cell_type": "code",
   "execution_count": 7,
   "metadata": {
    "collapsed": false,
    "scrolled": true
   },
   "outputs": [],
   "source": [
    "#load data \n",
    "data = hddm.load_csv('/home/nseijde1/Projects/scenestats/hddmregression/exp1_scce.csv') "
   ]
  },
  {
   "cell_type": "code",
   "execution_count": 6,
   "metadata": {
    "collapsed": true
   },
   "outputs": [],
   "source": [
    "import pymc as pm\n",
    "import numpy as np\n",
    "import pymc.progressbar as pbar\n",
    "\n",
    "def _parents_to_random_posterior_sample(bottom_node, pos=None):\n",
    "    \"\"\"Walks through parents and sets them to pos sample.\"\"\"\n",
    "    for i, parent in enumerate(bottom_node.extended_parents):\n",
    "        if not isinstance(parent, pm.Node): # Skip non-stochastic nodes\n",
    "            continue\n",
    "\n",
    "        if pos is None:\n",
    "            # Set to random posterior position\n",
    "            pos = np.random.randint(0, len(parent.trace()))\n",
    "\n",
    "        assert len(parent.trace()) >= pos, \"pos larger than posterior sample size\"\n",
    "        parent.value = parent.trace()[pos]\n",
    "\n",
    "def _post_pred_generate(bottom_node, samples=500, data=None, append_data=True):\n",
    "    \"\"\"Generate posterior predictive data from a single observed node.\"\"\"\n",
    "    datasets = []\n",
    "    ##############################\n",
    "    # Sample and generate stats\n",
    "    for sample in range(samples):\n",
    "        _parents_to_random_posterior_sample(bottom_node)\n",
    "        # Generate data from bottom node\n",
    "        sampled_data = bottom_node.random()\n",
    "        if append_data and data is not None:\n",
    "            sampled_data.reset_index(inplace=True)  # Only modification of original Kabuki code\n",
    "            sampled_data = sampled_data.join(data.reset_index(), lsuffix='_sampled')\n",
    "        datasets.append(sampled_data)\n",
    "    return datasets\n",
    "\n",
    "def post_pred_gen(model, groupby=None, samples=500, append_data=False, progress_bar=True):\n",
    "    results = {}\n",
    "\n",
    "    # Progress bar\n",
    "    if progress_bar:\n",
    "        n_iter = len(model.get_observeds())\n",
    "        bar = pbar.progress_bar(n_iter)\n",
    "        bar_iter = 0\n",
    "    else:\n",
    "        print(\"Sampling...\")\n",
    "\n",
    "    if groupby is None:\n",
    "        iter_data = ((name, model.data.ix[obs['node'].value.index]) for name, obs in model.iter_observeds())\n",
    "    else:\n",
    "        iter_data = model.data.groupby(groupby)\n",
    "\n",
    "    for name, data in iter_data:\n",
    "        node = model.get_data_nodes(data.index)\n",
    "\n",
    "        if progress_bar:\n",
    "            bar_iter += 1\n",
    "            bar.update(bar_iter)\n",
    "\n",
    "        if node is None or not hasattr(node, 'random'):\n",
    "            continue # Skip\n",
    "\n",
    "        ##############################\n",
    "        # Sample and generate stats\n",
    "        datasets = _post_pred_generate(node, samples=samples, data=data, append_data=append_data)\n",
    "        results[name] = pd.concat(datasets, names=['sample'], keys=list(range(len(datasets))))\n",
    "\n",
    "    if progress_bar:\n",
    "        bar_iter += 1\n",
    "        bar.update(bar_iter)\n",
    "\n",
    "    return pd.concat(results, names=['node'])"
   ]
  },
  {
   "cell_type": "code",
   "execution_count": 8,
   "metadata": {
    "collapsed": false
   },
   "outputs": [
    {
     "name": "stdout",
     "output_type": "stream",
     "text": [
      "sampling posterior predictives\n",
      " [------------------107%-------------------] 41 of 38 complete in 40657.1 sec          observed      mean       std           SEM       MSE credible  \\\n",
      "stat                                                                      \n",
      "accuracy  0.905783  0.905768  0.058273  2.383946e-10  0.003396     True   \n",
      "mean_ub   0.462986  0.461157  0.091170  3.347353e-06  0.008315     True   \n",
      "std_ub    0.139149  0.099394  0.030414  1.580409e-03  0.002505     True   \n",
      "10q_ub    0.327000  0.359476  0.067880  1.054700e-03  0.005662     True   \n",
      "30q_ub    0.384000  0.407431  0.075934  5.490176e-04  0.006315     True   \n",
      "50q_ub    0.437000  0.445565  0.085186  7.335233e-05  0.007330     True   \n",
      "70q_ub    0.499000  0.490535  0.096140  7.165637e-05  0.009314     True   \n",
      "90q_ub    0.624000  0.576654  0.125565  2.241608e-03  0.018005     True   \n",
      "mean_lb  -0.433631 -0.478080  0.132329  1.975705e-03  0.019486     True   \n",
      "std_lb    0.161067  0.130774  0.056109  9.176650e-04  0.004065     True   \n",
      "10q_lb    0.294800  0.348957  0.080820  2.932949e-03  0.009463     True   \n",
      "30q_lb    0.347000  0.406502  0.103311  3.540429e-03  0.014213     True   \n",
      "50q_lb    0.394000  0.457014  0.129483  3.970715e-03  0.020738     True   \n",
      "70q_lb    0.462000  0.516794  0.158477  3.002346e-03  0.028120     True   \n",
      "90q_lb    0.611200  0.625146  0.194693  1.944984e-04  0.038096     True   \n",
      "\n",
      "           quantile  mahalanobis  \n",
      "stat                              \n",
      "accuracy  34.210526     0.000265  \n",
      "mean_ub   52.631580     0.020068  \n",
      "std_ub    89.473686     1.307112  \n",
      "10q_ub    42.105263     0.478435  \n",
      "30q_ub    52.631580     0.308571  \n",
      "50q_ub    52.631580     0.100541  \n",
      "70q_ub    55.263157     0.088049  \n",
      "90q_ub    69.739471     0.377060  \n",
      "mean_lb   47.368420     0.335896  \n",
      "std_lb    71.052635     0.539900  \n",
      "10q_lb    21.052631     0.670090  \n",
      "30q_lb    31.578947     0.575943  \n",
      "50q_lb    47.368420     0.486654  \n",
      "70q_lb    52.631580     0.345752  \n",
      "90q_lb    55.263157     0.071632  \n"
     ]
    }
   ],
   "source": [
    "# now generate + plot posterior predictives\n",
    "print('sampling posterior predictives')\n",
    "n_samples = 500\n",
    "ppc_data = post_pred_gen(model,samples = n_samples, append_data=True, progress_bar=True)\n",
    "ppc_data.to_csv('posterior_predictive_1.csv')\n",
    "\n",
    "ppc_compare = hddm.utils.post_pred_stats(data, ppc_data)\n",
    "print(ppc_compare)\n",
    "ppc_compare.to_csv('ppc_compare_1.csv')\n",
    "ppc_stats = hddm.utils.post_pred_stats(data, ppc_data, call_compare=False)\n"
   ]
  },
  {
   "cell_type": "code",
   "execution_count": 160,
   "metadata": {
    "collapsed": false
   },
   "outputs": [
    {
     "data": {
      "text/plain": [
       "(-3, 3)"
      ]
     },
     "execution_count": 160,
     "metadata": {},
     "output_type": "execute_result"
    },
    {
     "data": {
      "image/png": "[encoded data removed]",
      "text/plain": [
       "<matplotlib.figure.Figure at 0x7fad3cb90e90>"
      ]
     },
     "metadata": {},
     "output_type": "display_data"
    }
   ],
   "source": [
    "sns.distplot(ppc_data.rt,label='data',hist=False,kde=True,kde_kws = {'shade': True, 'linewidth': 3}, hist_kws={'edgecolor':'black'})\n",
    "sns.distplot(ppc_data.rt_sampled,label='fit',hist=False,kde=True,kde_kws = {'shade': True, 'linewidth': 3}, hist_kws={'edgecolor':'black'})\n",
    "plt.xlim(-3,3)\n"
   ]
  },
  {
   "cell_type": "markdown",
   "metadata": {},
   "source": [
    "### Experiment 2a"
   ]
  },
  {
   "cell_type": "code",
   "execution_count": 3,
   "metadata": {
    "collapsed": false
   },
   "outputs": [
    {
     "name": "stdout",
     "output_type": "stream",
     "text": [
      "WARNING: Custom link functions will not be loaded.\n"
     ]
    }
   ],
   "source": [
    "# Load best model\n",
    "os.chdir('/home/nseijde1/Projects/scenestats/hddmregression/exp2a/m6')  \n",
    "model = hddm.load('m6')"
   ]
  },
  {
   "cell_type": "code",
   "execution_count": 4,
   "metadata": {
    "collapsed": true
   },
   "outputs": [],
   "source": [
    "#load data \n",
    "data = hddm.load_csv('/home/nseijde1/Projects/scenestats/hddmregression/exp2a_sc.csv') "
   ]
  },
  {
   "cell_type": "code",
   "execution_count": 7,
   "metadata": {
    "collapsed": false
   },
   "outputs": [
    {
     "name": "stdout",
     "output_type": "stream",
     "text": [
      "sampling posterior predictives\n",
      " [------------------106%------------------] 49 of 46 complete in 41160.6 sec          observed      mean       std       SEM       MSE credible  \\\n",
      "stat                                                                  \n",
      "accuracy  0.884149  0.882730  0.093873  0.000002  0.008815     True   \n",
      "mean_ub   0.460673  0.457901  0.076896  0.000008  0.005920     True   \n",
      "std_ub    0.141426  0.116179  0.033539  0.000637  0.001762     True   \n",
      "10q_ub    0.323000  0.342089  0.062666  0.000364  0.004292     True   \n",
      "30q_ub    0.387000  0.397642  0.065712  0.000113  0.004431     True   \n",
      "50q_ub    0.438000  0.440539  0.069444  0.000006  0.004829     True   \n",
      "70q_ub    0.498000  0.490581  0.077536  0.000055  0.006066     True   \n",
      "90q_ub    0.617000  0.587225  0.110065  0.000887  0.013003     True   \n",
      "mean_lb  -0.411799 -0.458053  0.115921  0.002139  0.015576     True   \n",
      "std_lb    0.178792  0.139052  0.063120  0.001579  0.005563     True   \n",
      "10q_lb    0.229000  0.319114  0.077121  0.008120  0.014068     True   \n",
      "30q_lb    0.323000  0.378949  0.085643  0.003130  0.010469     True   \n",
      "50q_lb    0.379000  0.434445  0.106826  0.003074  0.014484     True   \n",
      "70q_lb    0.456700  0.498842  0.131704  0.001776  0.019119     True   \n",
      "90q_lb    0.622000  0.620158  0.188396  0.000003  0.035497     True   \n",
      "\n",
      "           quantile  mahalanobis  \n",
      "stat                              \n",
      "accuracy  34.782608     0.015117  \n",
      "mean_ub   60.869564     0.036048  \n",
      "std_ub    82.608696     0.752789  \n",
      "10q_ub    41.304348     0.304608  \n",
      "30q_ub    50.000000     0.161956  \n",
      "50q_ub    55.436958     0.036563  \n",
      "70q_ub    60.869564     0.095689  \n",
      "90q_ub    69.565216     0.270523  \n",
      "mean_lb   54.347828     0.399015  \n",
      "std_lb    76.086960     0.629588  \n",
      "10q_lb    10.869565     1.168468  \n",
      "30q_lb    23.913044     0.653285  \n",
      "50q_lb    42.393478     0.519024  \n",
      "70q_lb    47.826088     0.319972  \n",
      "90q_lb    63.043480     0.009778  \n"
     ]
    }
   ],
   "source": [
    "# now generate + plot posterior predictives\n",
    "print('sampling posterior predictives')\n",
    "n_samples = 500\n",
    "ppc_data = post_pred_gen(model,samples = n_samples, append_data=True, progress_bar=True)\n",
    "ppc_data.to_csv('posterior_predictive_2a.csv')\n",
    "\n",
    "ppc_compare = hddm.utils.post_pred_stats(data, ppc_data)\n",
    "print(ppc_compare)\n",
    "ppc_compare.to_csv('ppc_compare_2a.csv')\n",
    "ppc_stats = hddm.utils.post_pred_stats(data, ppc_data, call_compare=False)\n"
   ]
  },
  {
   "cell_type": "code",
   "execution_count": 8,
   "metadata": {
    "collapsed": false
   },
   "outputs": [
    {
     "data": {
      "text/plain": [
       "(-3, 3)"
      ]
     },
     "execution_count": 8,
     "metadata": {},
     "output_type": "execute_result"
    },
    {
     "data": {
      "image/png": "[encoded data removed]",
      "text/plain": [
       "<matplotlib.figure.Figure at 0x7f84e6c25050>"
      ]
     },
     "metadata": {},
     "output_type": "display_data"
    }
   ],
   "source": [
    "sns.distplot(ppc_data.rt,label='data',hist=False,kde=True,kde_kws = {'shade': True, 'linewidth': 3}, hist_kws={'edgecolor':'black'})\n",
    "sns.distplot(ppc_data.rt_sampled,label='fit',hist=False,kde=True,kde_kws = {'shade': True, 'linewidth': 3}, hist_kws={'edgecolor':'black'})\n",
    "plt.xlim(-3,3)\n"
   ]
  },
  {
   "cell_type": "code",
   "execution_count": null,
   "metadata": {
    "collapsed": true
   },
   "outputs": [],
   "source": []
  }
 ],
 "metadata": {
  "kernelspec": {
   "display_name": "Python 2",
   "language": "python",
   "name": "python2"
  },
  "language_info": {
   "codemirror_mode": {
    "name": "ipython",
    "version": 2
   },
   "file_extension": ".py",
   "mimetype": "text/x-python",
   "name": "python",
   "nbconvert_exporter": "python",
   "pygments_lexer": "ipython2",
   "version": "2.7.13"
  }
 },
 "nbformat": 4,
 "nbformat_minor": 2
}
