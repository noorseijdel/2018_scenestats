{
 "cells": [
  {
   "cell_type": "code",
   "execution_count": null,
   "metadata": {
    "collapsed": true
   },
   "outputs": [],
   "source": [
    "\"\"\"\n",
    "Noor Seijdel, 2017\n",
    "\"\"\"\n",
    "import warnings\n",
    "warnings.filterwarnings('ignore')\n",
    "import pandas as pd\n",
    "import numpy as np\n",
    "import seaborn as sns\n",
    "import os.path \n",
    "import hddm\n",
    "from scipy.stats import pearsonr, percentileofscore, ttest_ind, ttest_rel, wilcoxon, ranksums\n",
    "from statsmodels.sandbox.stats.multicomp import multipletests\n",
    "import matplotlib.pyplot as plt\n",
    "from patsy import center\n",
    "import kabuki\n",
    "%matplotlib inline \n",
    "cmap = sns.color_palette(\"hls\", 8)\n",
    "sns.set_palette(cmap)\n",
    "sns.set_style(\"white\")"
   ]
  },
  {
   "cell_type": "code",
   "execution_count": null,
   "metadata": {
    "collapsed": false
   },
   "outputs": [],
   "source": [
    "# test parallel\n",
    "import ipyparallel as ipp\n",
    "c = ipp.Client()\n",
    "c.ids\n",
    "c[:].apply_sync(lambda : \"test\")"
   ]
  },
  {
   "cell_type": "code",
   "execution_count": null,
   "metadata": {
    "collapsed": true
   },
   "outputs": [],
   "source": [
    "def run_model(id):\n",
    "    import hddm\n",
    "    import os.path\n",
    "    \n",
    "    #exp1, 2a, 2b\n",
    "    data = hddm.load_csv('/home/nseijde1/scenestats/hddmregression/SCCE_allparticipants.csv') \n",
    "    #data = hddm.load_csv('/home/nseijde1/scenestats/hddmregression/SC_allparticipants.csv') \n",
    "    #data = hddm.load_csv('/home/nseijde1/scenestats/hddmregression/CE_allparticipants.csv') \n",
    "    \n",
    "    #model0, 1, 2, 3, 4\n",
    "    #m0 = hddm.HDDM(data, bias=False, p_outlier=0.05)\n",
    "    dep = {'a':'SpAc'} #1\n",
    "    #dep = {'v':'Sc', 'a':'SpAc'} #2\n",
    "    #dep = {'a':['SpAc', 'Sc']} #3\n",
    "    #dep = {'v':'Sc', 'a':['SpAc', 'Sc']} #4\n",
    "\n",
    "    os.chdir(u'/home/nseijde1')\n",
    "    m = hddm.HDDM(data,depends_on=dep, bias=False, p_outlier=0.05)\n",
    "    m.find_starting_values()\n",
    "    m.sample(5000, burn=20, thin=2, dbname='traces%i.db'%id, db='pickle')\n",
    "    return m"
   ]
  },
  {
   "cell_type": "code",
   "execution_count": null,
   "metadata": {
    "collapsed": false
   },
   "outputs": [],
   "source": [
    "jobs = c[:].map(run_model, range(4)) # 4 is the number of CPUs\n",
    "models = jobs.get()"
   ]
  },
  {
   "cell_type": "markdown",
   "metadata": {},
   "source": [
    "## Experiment 1 "
   ]
  },
  {
   "cell_type": "code",
   "execution_count": null,
   "metadata": {
    "collapsed": false
   },
   "outputs": [],
   "source": [
    "combined_model = kabuki.utils.concat_models(models)\n",
    "os.chdir(u'/home/nseijde1/scenestats/hddmcheck/exp1/m0')  \n",
    "combined_model.save('m')\n",
    "#combined_model0.print_stats()\n",
    "combined_model.plot_posteriors(save=True)"
   ]
  },
  {
   "cell_type": "markdown",
   "metadata": {},
   "source": [
    "## Experiment 2a"
   ]
  },
  {
   "cell_type": "code",
   "execution_count": null,
   "metadata": {
    "collapsed": true
   },
   "outputs": [],
   "source": [
    "combined_model0 = kabuki.utils.concat_models(models0)\n",
    "os.chdir(u'/home/nseijde1/scenestats/hddmcheck/exp2a/m0')  \n",
    "combined_model0.save('m0')\n",
    "#combined_model0.print_stats()\n",
    "combined_model0.plot_posteriors(save=True)"
   ]
  },
  {
   "cell_type": "markdown",
   "metadata": {},
   "source": [
    "## Experiment 2b"
   ]
  },
  {
   "cell_type": "code",
   "execution_count": null,
   "metadata": {
    "collapsed": false
   },
   "outputs": [],
   "source": [
    "combined_model0 = kabuki.utils.concat_models(models0)\n",
    "os.chdir(u'/home/nseijde1/scenestats/hddmcheck/exp2b/m0')  \n",
    "combined_model0.save('m0')\n",
    "#combined_model0.print_stats()\n",
    "combined_model0.plot_posteriors(save=True)"
   ]
  }
 ],
 "metadata": {
  "kernelspec": {
   "display_name": "Python 2",
   "language": "python",
   "name": "python2"
  },
  "language_info": {
   "codemirror_mode": {
    "name": "ipython",
    "version": 2
   },
   "file_extension": ".py",
   "mimetype": "text/x-python",
   "name": "python",
   "nbconvert_exporter": "python",
   "pygments_lexer": "ipython2",
   "version": "2.7.13"
  }
 },
 "nbformat": 4,
 "nbformat_minor": 2
}
