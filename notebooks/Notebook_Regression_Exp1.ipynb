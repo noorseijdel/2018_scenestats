{
 "cells": [
  {
   "cell_type": "code",
   "execution_count": 2,
   "metadata": {
    "collapsed": true
   },
   "outputs": [],
   "source": [
    "\n",
    "import warnings\n",
    "warnings.filterwarnings('ignore')\n",
    "import pandas as pd\n",
    "import numpy as np\n",
    "import seaborn as sns\n",
    "import os.path \n",
    "import hddm\n",
    "#import statsmodels.api as sm\n",
    "from scipy.stats import pearsonr, percentileofscore, ttest_ind, ttest_rel, wilcoxon, ranksums\n",
    "from statsmodels.sandbox.stats.multicomp import multipletests\n",
    "import matplotlib.pyplot as plt\n",
    "from patsy import center\n",
    "%matplotlib inline \n",
    "cmap = sns.color_palette(\"hls\", 8)\n",
    "sns.set_palette(cmap)\n",
    "sns.set_style(\"white\")\n",
    "import kabuki\n",
    "\n",
    "# ======== #\n",
    "# in HDDM \n",
    "# ======== #\n",
    "# a - describes the distance between the decision boundaries\n",
    "# t - describes all the non-decision time parameters (action, perception etc)\n",
    "# z - bias that describes the starting point\n",
    "# v - drift-rate\n",
    "# dc, sv, st, sz - drift criterion, inter-trial variability"
   ]
  },
  {
   "cell_type": "code",
   "execution_count": 2,
   "metadata": {
    "collapsed": false
   },
   "outputs": [
    {
     "data": {
      "text/plain": [
       "['test', 'test', 'test', 'test']"
      ]
     },
     "execution_count": 2,
     "metadata": {},
     "output_type": "execute_result"
    }
   ],
   "source": [
    "# test parallel\n",
    "import ipyparallel as ipp\n",
    "c = ipp.Client()\n",
    "c.ids\n",
    "c[:].apply_sync(lambda : \"test\")"
   ]
  },
  {
   "cell_type": "code",
   "execution_count": null,
   "metadata": {
    "collapsed": false
   },
   "outputs": [],
   "source": [
    "def run_model(id):\n",
    "    import hddm\n",
    "    import os.path\n",
    "    \n",
    "    #exp1, 2a, 2b\n",
    "    data = hddm.load_csv('/home/Projects/scenestats/exp1_scce.csv') \n",
    "    data.rename(columns = {'Unnamed: 0': 'id', 'correct':'response'}, inplace = True)\n",
    "    \n",
    "    reg = ['v ~ 1 + SC_c + SC_squared'] #7\n",
    "   \n",
    "    os.chdir(u'/home/nseijde1')\n",
    "    m = hddm.HDDMRegressor(data, reg, depends_on={'a':'SpAc'},bias=True,include={'z'}, p_outlier=0.05)\n",
    "    m.find_starting_values()\n",
    "    m.sample(5000, burn=200, thin=2, dbname='m7traces%i.db'%id, db='pickle')\n",
    "    return m\n",
    "\n",
    "os.chdir(u'/home/nseijde1')\n",
    "\n",
    "jobs = c[:].map(run_model, range(4)) # 4 is the number of CPUs\n",
    "models = jobs.get()\n",
    "\n",
    "combined_model = kabuki.utils.concat_models(models)\n",
    "os.chdir('/home/Projects/scenestats/exp1/m7')  \n",
    "combined_model.save('m7')\n",
    "combined_model.print_stats()\n",
    "combined_model.plot_posteriors(save=True)\n",
    "\n",
    "# compute gelman rubic\n",
    "gr = hddm.analyze.gelman_rubin(models)\n",
    "text_file = open('gelman_rubic.txt', 'w')\n",
    "for p in gr.items():\n",
    "     text_file.write(\"%s:%s\\n\" % p)\n",
    "text_file.close()"
   ]
  },
  {
   "cell_type": "code",
   "execution_count": 9,
   "metadata": {
    "collapsed": false
   },
   "outputs": [
    {
     "name": "stdout",
     "output_type": "stream",
     "text": [
      "WARNING: Custom link functions will not be loaded.\n",
      "-14592.692809\n"
     ]
    }
   ],
   "source": [
    "# Load best model\n",
    "os.chdir('/home/Projects/scenestats/exp1/all/m7')\n",
    "model = hddm.load('m7')\n",
    "print model.dic\n",
    "#model.gen_stats('stats.txt')"
   ]
  },
  {
   "cell_type": "code",
   "execution_count": 10,
   "metadata": {
    "collapsed": false
   },
   "outputs": [
    {
     "name": "stdout",
     "output_type": "stream",
     "text": [
      "[0.0, 0.0]\n"
     ]
    },
    {
     "data": {
      "image/png": "[encoded data removed]",
      "text/plain": [
       "<matplotlib.figure.Figure at 0x7f0dcf4245d0>"
      ]
     },
     "metadata": {},
     "output_type": "display_data"
    }
   ],
   "source": [
    "fig_dir = u'/home/Projects/scenestats/exp1/all/m7'\n",
    "params_of_interest = ['v_SC_c', 'v_SC_squared']\n",
    "titles = ['v ~ SC', 'v ~ SC2' ]\n",
    "\n",
    "traces = []\n",
    "for p in range(len(params_of_interest)):\n",
    "    traces.append(model.nodes_db.node[params_of_interest[p]].trace.gettrace())\n",
    "\n",
    "stats = []\n",
    "for p in range(len(params_of_interest)):\n",
    "    stat = min(np.mean(traces[p] > 0), np.mean(traces[p] < 0))\n",
    "    stats.append(min(stat, 1-stat))\n",
    "#stats = np.array(stats)    \n",
    "\n",
    "print stats\n",
    "fig, axes = plt.subplots(nrows=1, ncols=2, figsize=(4,2.5))\n",
    "\n",
    "ax_nr = 0\n",
    "pl = 0\n",
    "cc=['maroon','darkorange']\n",
    "for p in range(len(params_of_interest)):\n",
    "    data = [traces[p]]\n",
    "    ax = axes[ax_nr]\n",
    "    for d, label, c in zip(data, ['1',], ['black']):\n",
    "        sns.kdeplot(d, vertical=False, shade=True, color=cc[pl], ax=ax)\n",
    "        ax.set_xlabel('Posterior probability')\n",
    "        ax.set_title('{}\\np={}'.format(titles[pl], round(stats[p],3)))\n",
    "        for axis in ['top','bottom','left','right']:\n",
    "            ax.spines[axis].set_linewidth(0.5)\n",
    "            ax.tick_params(width=0.5)          \n",
    "        pl+=1\n",
    "        if pl == 2:\n",
    "            ax_nr+=1\n",
    "        \n",
    "sns.despine(offset=7, trim=False)\n",
    "axes[0].set_ylabel('Parameter estimate (a.u.)')\n",
    "axes[0].axvline(x=0, color='r', linestyle='--')\n",
    "axes[1].axvline(x=0, color='r', linestyle='--')\n",
    "axes[0].set_ylim(0,10)\n",
    "axes[0].set_xlim(-2,1)\n",
    "axes[1].set_ylim(0,20)\n",
    "axes[1].set_xlim(-0.5,0.25)\n",
    "\n",
    "plt.tight_layout()\n",
    "fig.savefig(os.path.join(fig_dir, 'posteriorsZ.pdf'))"
   ]
  },
  {
   "cell_type": "code",
   "execution_count": null,
   "metadata": {
    "collapsed": true
   },
   "outputs": [],
   "source": []
  }
 ],
 "metadata": {
  "kernelspec": {
   "display_name": "Python 2",
   "language": "python",
   "name": "python2"
  },
  "language_info": {
   "codemirror_mode": {
    "name": "ipython",
    "version": 2
   },
   "file_extension": ".py",
   "mimetype": "text/x-python",
   "name": "python",
   "nbconvert_exporter": "python",
   "pygments_lexer": "ipython2",
   "version": "2.7.13"
  }
 },
 "nbformat": 4,
 "nbformat_minor": 2
}
