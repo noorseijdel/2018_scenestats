{
 "cells": [
  {
   "cell_type": "markdown",
   "metadata": {},
   "source": [
    "# Low-level image statistics in natural scenes influence perceptual decision-making\n"
   ]
  },
  {
   "cell_type": "code",
   "execution_count": 1,
   "metadata": {},
   "outputs": [
    {
     "data": {
      "text/plain": [
       "'0.8.0.dev0+37f7e05'"
      ]
     },
     "execution_count": 1,
     "metadata": {},
     "output_type": "execute_result"
    }
   ],
   "source": [
    "\"\"\"\n",
    "Noor Seijdel, 2017\n",
    "\"\"\"\n",
    "import warnings\n",
    "warnings.filterwarnings('ignore')\n",
    "import pandas as pd\n",
    "import numpy as np\n",
    "import os.path \n",
    "import statsmodels\n",
    "from statsmodels.stats.anova import AnovaRM\n",
    "from scipy.stats import pearsonr, percentileofscore, ttest_ind, ttest_ind_from_stats, ttest_rel, wilcoxon, ranksums\n",
    "from statsmodels.sandbox.stats.multicomp import multipletests\n",
    "from statsmodels.formula.api import ols\n",
    "import statsmodels.formula.api as smf\n",
    "import matplotlib.pyplot as plt\n",
    "from patsy import center\n",
    "%matplotlib inline \n",
    "from numpy.random import normal\n",
    "import seaborn as sns\n",
    "statsmodels.__version__\n"
   ]
  },
  {
   "cell_type": "markdown",
   "metadata": {},
   "source": [
    "## Load data"
   ]
  },
  {
   "cell_type": "code",
   "execution_count": 2,
   "metadata": {
    "scrolled": false
   },
   "outputs": [
    {
     "data": {
      "text/html": [
       "<div>\n",
       "<style scoped>\n",
       "    .dataframe tbody tr th:only-of-type {\n",
       "        vertical-align: middle;\n",
       "    }\n",
       "\n",
       "    .dataframe tbody tr th {\n",
       "        vertical-align: top;\n",
       "    }\n",
       "\n",
       "    .dataframe thead th {\n",
       "        text-align: right;\n",
       "    }\n",
       "</style>\n",
       "<table border=\"1\" class=\"dataframe\">\n",
       "  <thead>\n",
       "    <tr style=\"text-align: right;\">\n",
       "      <th></th>\n",
       "      <th>Unnamed: 0</th>\n",
       "      <th>Pic</th>\n",
       "      <th>dier</th>\n",
       "      <th>Sc</th>\n",
       "      <th>lmh</th>\n",
       "      <th>SpAc</th>\n",
       "      <th>response</th>\n",
       "      <th>rt</th>\n",
       "      <th>subj_idx</th>\n",
       "      <th>CE</th>\n",
       "      <th>SC</th>\n",
       "      <th>CE_c</th>\n",
       "      <th>SC_c</th>\n",
       "      <th>CE_squared</th>\n",
       "      <th>SC_squared</th>\n",
       "    </tr>\n",
       "  </thead>\n",
       "  <tbody>\n",
       "    <tr>\n",
       "      <th>0</th>\n",
       "      <td>0</td>\n",
       "      <td>120</td>\n",
       "      <td>nD</td>\n",
       "      <td>1</td>\n",
       "      <td>low</td>\n",
       "      <td>Sp</td>\n",
       "      <td>1</td>\n",
       "      <td>0.269</td>\n",
       "      <td>ppn10</td>\n",
       "      <td>0.059630</td>\n",
       "      <td>0.648035</td>\n",
       "      <td>-0.380350</td>\n",
       "      <td>-0.276190</td>\n",
       "      <td>0.144666</td>\n",
       "      <td>0.076281</td>\n",
       "    </tr>\n",
       "    <tr>\n",
       "      <th>1</th>\n",
       "      <td>1</td>\n",
       "      <td>152</td>\n",
       "      <td>nD</td>\n",
       "      <td>1</td>\n",
       "      <td>low</td>\n",
       "      <td>Sp</td>\n",
       "      <td>0</td>\n",
       "      <td>0.783</td>\n",
       "      <td>ppn10</td>\n",
       "      <td>0.156877</td>\n",
       "      <td>0.652993</td>\n",
       "      <td>-0.283103</td>\n",
       "      <td>-0.271231</td>\n",
       "      <td>0.080147</td>\n",
       "      <td>0.073566</td>\n",
       "    </tr>\n",
       "    <tr>\n",
       "      <th>2</th>\n",
       "      <td>2</td>\n",
       "      <td>23</td>\n",
       "      <td>D</td>\n",
       "      <td>1</td>\n",
       "      <td>low</td>\n",
       "      <td>Sp</td>\n",
       "      <td>1</td>\n",
       "      <td>0.626</td>\n",
       "      <td>ppn10</td>\n",
       "      <td>0.112617</td>\n",
       "      <td>0.632840</td>\n",
       "      <td>-0.327363</td>\n",
       "      <td>-0.291385</td>\n",
       "      <td>0.107167</td>\n",
       "      <td>0.084905</td>\n",
       "    </tr>\n",
       "    <tr>\n",
       "      <th>3</th>\n",
       "      <td>3</td>\n",
       "      <td>111</td>\n",
       "      <td>nD</td>\n",
       "      <td>1</td>\n",
       "      <td>low</td>\n",
       "      <td>Sp</td>\n",
       "      <td>1</td>\n",
       "      <td>0.637</td>\n",
       "      <td>ppn10</td>\n",
       "      <td>0.213033</td>\n",
       "      <td>0.725208</td>\n",
       "      <td>-0.226947</td>\n",
       "      <td>-0.199016</td>\n",
       "      <td>0.051505</td>\n",
       "      <td>0.039607</td>\n",
       "    </tr>\n",
       "    <tr>\n",
       "      <th>4</th>\n",
       "      <td>4</td>\n",
       "      <td>43</td>\n",
       "      <td>D</td>\n",
       "      <td>1</td>\n",
       "      <td>low</td>\n",
       "      <td>Sp</td>\n",
       "      <td>1</td>\n",
       "      <td>0.366</td>\n",
       "      <td>ppn10</td>\n",
       "      <td>0.267030</td>\n",
       "      <td>0.682406</td>\n",
       "      <td>-0.172950</td>\n",
       "      <td>-0.241819</td>\n",
       "      <td>0.029912</td>\n",
       "      <td>0.058476</td>\n",
       "    </tr>\n",
       "    <tr>\n",
       "      <th>5</th>\n",
       "      <td>5</td>\n",
       "      <td>60</td>\n",
       "      <td>D</td>\n",
       "      <td>1</td>\n",
       "      <td>low</td>\n",
       "      <td>Sp</td>\n",
       "      <td>0</td>\n",
       "      <td>0.485</td>\n",
       "      <td>ppn10</td>\n",
       "      <td>0.105226</td>\n",
       "      <td>0.613989</td>\n",
       "      <td>-0.334754</td>\n",
       "      <td>-0.310235</td>\n",
       "      <td>0.112060</td>\n",
       "      <td>0.096246</td>\n",
       "    </tr>\n",
       "    <tr>\n",
       "      <th>6</th>\n",
       "      <td>6</td>\n",
       "      <td>54</td>\n",
       "      <td>D</td>\n",
       "      <td>1</td>\n",
       "      <td>low</td>\n",
       "      <td>Sp</td>\n",
       "      <td>1</td>\n",
       "      <td>0.481</td>\n",
       "      <td>ppn10</td>\n",
       "      <td>0.129534</td>\n",
       "      <td>0.706614</td>\n",
       "      <td>-0.310446</td>\n",
       "      <td>-0.217611</td>\n",
       "      <td>0.096377</td>\n",
       "      <td>0.047354</td>\n",
       "    </tr>\n",
       "    <tr>\n",
       "      <th>7</th>\n",
       "      <td>7</td>\n",
       "      <td>71</td>\n",
       "      <td>D</td>\n",
       "      <td>1</td>\n",
       "      <td>low</td>\n",
       "      <td>Sp</td>\n",
       "      <td>1</td>\n",
       "      <td>0.480</td>\n",
       "      <td>ppn10</td>\n",
       "      <td>0.138911</td>\n",
       "      <td>0.564420</td>\n",
       "      <td>-0.301069</td>\n",
       "      <td>-0.359804</td>\n",
       "      <td>0.090643</td>\n",
       "      <td>0.129459</td>\n",
       "    </tr>\n",
       "    <tr>\n",
       "      <th>8</th>\n",
       "      <td>8</td>\n",
       "      <td>107</td>\n",
       "      <td>nD</td>\n",
       "      <td>1</td>\n",
       "      <td>low</td>\n",
       "      <td>Sp</td>\n",
       "      <td>1</td>\n",
       "      <td>0.439</td>\n",
       "      <td>ppn10</td>\n",
       "      <td>0.128778</td>\n",
       "      <td>0.495516</td>\n",
       "      <td>-0.311202</td>\n",
       "      <td>-0.428708</td>\n",
       "      <td>0.096846</td>\n",
       "      <td>0.183791</td>\n",
       "    </tr>\n",
       "    <tr>\n",
       "      <th>9</th>\n",
       "      <td>9</td>\n",
       "      <td>66</td>\n",
       "      <td>D</td>\n",
       "      <td>1</td>\n",
       "      <td>low</td>\n",
       "      <td>Sp</td>\n",
       "      <td>1</td>\n",
       "      <td>0.292</td>\n",
       "      <td>ppn10</td>\n",
       "      <td>0.083869</td>\n",
       "      <td>0.482984</td>\n",
       "      <td>-0.356111</td>\n",
       "      <td>-0.441241</td>\n",
       "      <td>0.126815</td>\n",
       "      <td>0.194693</td>\n",
       "    </tr>\n",
       "  </tbody>\n",
       "</table>\n",
       "</div>"
      ],
      "text/plain": [
       "   Unnamed: 0  Pic dier  Sc  lmh SpAc  response     rt subj_idx        CE  \\\n",
       "0           0  120   nD   1  low   Sp         1  0.269    ppn10  0.059630   \n",
       "1           1  152   nD   1  low   Sp         0  0.783    ppn10  0.156877   \n",
       "2           2   23    D   1  low   Sp         1  0.626    ppn10  0.112617   \n",
       "3           3  111   nD   1  low   Sp         1  0.637    ppn10  0.213033   \n",
       "4           4   43    D   1  low   Sp         1  0.366    ppn10  0.267030   \n",
       "5           5   60    D   1  low   Sp         0  0.485    ppn10  0.105226   \n",
       "6           6   54    D   1  low   Sp         1  0.481    ppn10  0.129534   \n",
       "7           7   71    D   1  low   Sp         1  0.480    ppn10  0.138911   \n",
       "8           8  107   nD   1  low   Sp         1  0.439    ppn10  0.128778   \n",
       "9           9   66    D   1  low   Sp         1  0.292    ppn10  0.083869   \n",
       "\n",
       "         SC      CE_c      SC_c  CE_squared  SC_squared  \n",
       "0  0.648035 -0.380350 -0.276190    0.144666    0.076281  \n",
       "1  0.652993 -0.283103 -0.271231    0.080147    0.073566  \n",
       "2  0.632840 -0.327363 -0.291385    0.107167    0.084905  \n",
       "3  0.725208 -0.226947 -0.199016    0.051505    0.039607  \n",
       "4  0.682406 -0.172950 -0.241819    0.029912    0.058476  \n",
       "5  0.613989 -0.334754 -0.310235    0.112060    0.096246  \n",
       "6  0.706614 -0.310446 -0.217611    0.096377    0.047354  \n",
       "7  0.564420 -0.301069 -0.359804    0.090643    0.129459  \n",
       "8  0.495516 -0.311202 -0.428708    0.096846    0.183791  \n",
       "9  0.482984 -0.356111 -0.441241    0.126815    0.194693  "
      ]
     },
     "execution_count": 2,
     "metadata": {},
     "output_type": "execute_result"
    }
   ],
   "source": [
    "data = pd.read_csv(u'/media/noor/DataNS/Onderzoek/Projects/Scenestats/SCCE_allparticipants.csv') \n",
    "data.head(10)"
   ]
  },
  {
   "cell_type": "code",
   "execution_count": 3,
   "metadata": {},
   "outputs": [],
   "source": [
    "# preprocessing \n",
    "data2use = data[data['rt']>0.1] # remove fast guesses - rt < 100 ms)\n",
    "\n",
    "data4rt = data2use[data2use['response'] == 1]# remove error trials for RT analysis (correct = 1, error = 0)\n",
    "data4rt['rt'] = data4rt['rt'].apply(pd.to_numeric)*1000 #RT in ms"
   ]
  },
  {
   "cell_type": "code",
   "execution_count": 4,
   "metadata": {},
   "outputs": [
    {
     "name": "stdout",
     "output_type": "stream",
     "text": [
      "                Anova\n",
      "=====================================\n",
      "        F Value Num DF  Den DF Pr > F\n",
      "-------------------------------------\n",
      "Sc      18.7955 2.0000 36.0000 0.0000\n",
      "SpAc    37.4254 1.0000 18.0000 0.0000\n",
      "Sc:SpAc  0.2614 2.0000 36.0000 0.7714\n",
      "=====================================\n",
      "\n"
     ]
    }
   ],
   "source": [
    "#RTs - repeated measures ANOVA with complexity (low, med, high) and instruction (speed, accurate)\n",
    "means = data4rt.groupby(['subj_idx', 'Sc', 'SpAc'], as_index=False)['rt'].mean()\n",
    "means['rt'] = means['rt'].round(3) \n",
    "df = pd.DataFrame(means)\n",
    "means.to_csv('huh.csv')\n",
    "aovrm = AnovaRM(df, 'rt', 'subj_idx', within=['Sc', 'SpAc'])\n",
    "fit = aovrm.fit()\n",
    "print fit"
   ]
  },
  {
   "cell_type": "code",
   "execution_count": 5,
   "metadata": {},
   "outputs": [
    {
     "name": "stdout",
     "output_type": "stream",
     "text": [
      "                Anova\n",
      "=====================================\n",
      "        F Value Num DF  Den DF Pr > F\n",
      "-------------------------------------\n",
      "Sc      14.3694 2.0000 36.0000 0.0000\n",
      "SpAc    61.7730 1.0000 18.0000 0.0000\n",
      "Sc:SpAc  0.1772 2.0000 36.0000 0.8383\n",
      "=====================================\n",
      "\n"
     ]
    }
   ],
   "source": [
    "#Error rates repeated measures ANOVA with complexity (low, med, high) and instruction (speed, accurate)\n",
    "totalT = data2use.groupby(['subj_idx', 'Sc', 'SpAc'], as_index=False)['response'].count()\n",
    "correctT = data2use.groupby(['subj_idx', 'Sc', 'SpAc'], as_index=False)['response'].sum()\n",
    "totalT['response'] = (1-(correctT['response']/totalT['response'].round(3)))*100\n",
    "\n",
    "df = pd.DataFrame(totalT)\n",
    "df.to_csv('nou.csv')\n",
    "aovrm = AnovaRM(df, 'response', 'subj_idx', within=['Sc', 'SpAc'])\n",
    "fit = aovrm.fit()\n",
    "print fit\n"
   ]
  },
  {
   "cell_type": "markdown",
   "metadata": {},
   "source": [
    "### No interaction effects; we collapse over speed and accurate "
   ]
  },
  {
   "cell_type": "code",
   "execution_count": 131,
   "metadata": {},
   "outputs": [
    {
     "name": "stdout",
     "output_type": "stream",
     "text": [
      "              Anova\n",
      "================================\n",
      "   F Value Num DF  Den DF Pr > F\n",
      "--------------------------------\n",
      "Sc 19.8111 2.0000 36.0000 0.0000\n",
      "================================\n",
      "\n",
      "p_eta_s =  [0.52394947382788937]\n"
     ]
    },
    {
     "data": {
      "image/png": "[encoded data removed]",
      "text/plain": [
       "<matplotlib.figure.Figure at 0x7f73c5edf750>"
      ]
     },
     "metadata": {},
     "output_type": "display_data"
    }
   ],
   "source": [
    "#RTs - collapse over Speed-Accurate (because no interaction effect)\n",
    "means = data4rt.groupby(['subj_idx', 'Sc'], as_index=False)['rt'].mean()\n",
    "means['rt'] = means['rt'].round(3)\n",
    "\n",
    "df = pd.DataFrame(means)\n",
    "aovrm = AnovaRM(df, 'rt', 'subj_idx', within=['Sc'])\n",
    "fit = aovrm.fit()\n",
    "print fit\n",
    "p_eta_s = [] #compute partial eta squared \n",
    "p_eta_s.append((fit.anova_table['F Value'][0]*fit.anova_table['Num DF'][0])/((fit.anova_table['F Value'][0]*fit.anova_table['Num DF'][0])+fit.anova_table['Den DF'][0]))\n",
    "print 'p_eta_s = ', p_eta_s\n",
    "\n",
    "fig = plt.figure(figsize =(3,3))\n",
    "plt.ylim(350, 550)\n",
    "plt.yticks([350,450,550])\n",
    "plt.xticks([1,2,3])\n",
    "plt.xlabel(['low','med', 'high'])\n",
    "ax = plt.errorbar([1,2,3],means.groupby('Sc')['rt'].mean(), means.groupby('Sc')['rt'].sem(),fmt='--o', color='grey')\n"
   ]
  },
  {
   "cell_type": "code",
   "execution_count": 50,
   "metadata": {},
   "outputs": [
    {
     "name": "stdout",
     "output_type": "stream",
     "text": [
      "low-med RT - t-stat = 1.567; p-val = 0.135.\n",
      "low-high RT - t-stat = -3.914; p-val = 0.001.\n",
      "med-high RT - t-stat = -7.293; p-val = 0.000.\n",
      "\n",
      "(array([False,  True,  True], dtype=bool), array([  4.03894349e-01,   3.05039684e-03,   2.67580954e-06]), 0.016952427508441503, 0.016666666666666666)\n"
     ]
    }
   ],
   "source": [
    "low_vs_med = ttest_rel(means[means['Sc'] == 1]['rt'], means[means['Sc'] == 2]['rt'])\n",
    "low_vs_high = ttest_rel(means[means['Sc'] == 1]['rt'], means[means['Sc'] == 3]['rt'])\n",
    "med_vs_high = ttest_rel(means[means['Sc'] == 2]['rt'], means[means['Sc'] == 3]['rt'])\n",
    "stats =[low_vs_med[1], low_vs_high[1], med_vs_high[1]]\n",
    "print \"low-med RT - t-stat = %.3f; p-val = %.3f.\" % low_vs_med\n",
    "print \"low-high RT - t-stat = %.3f; p-val = %.3f.\" % low_vs_high\n",
    "print \"med-high RT - t-stat = %.3f; p-val = %.3f.\\n\" % med_vs_high\n",
    "\n",
    "p_adjusted = multipletests(stats, method='bonferroni')\n",
    "print p_adjusted"
   ]
  },
  {
   "cell_type": "code",
   "execution_count": 132,
   "metadata": {},
   "outputs": [
    {
     "name": "stdout",
     "output_type": "stream",
     "text": [
      "              Anova\n",
      "================================\n",
      "   F Value Num DF  Den DF Pr > F\n",
      "--------------------------------\n",
      "Sc 14.2626 2.0000 36.0000 0.0000\n",
      "================================\n",
      "\n",
      "p_eta_s =  [0.44207798655803782]\n"
     ]
    },
    {
     "data": {
      "image/png": "[encoded data removed]",
      "text/plain": [
       "<matplotlib.figure.Figure at 0x7f73c67a65d0>"
      ]
     },
     "metadata": {},
     "output_type": "display_data"
    }
   ],
   "source": [
    "#Error rates collapse over Speed-Accurate (because no interaction effect)\n",
    "totalT = data2use.groupby(['subj_idx', 'Sc'], as_index=False)['response'].count()\n",
    "correctT = data2use.groupby(['subj_idx', 'Sc'], as_index=False)['response'].sum()\n",
    "totalT['response'] = (1-(correctT['response']/totalT['response'].round(3)))*100\n",
    "\n",
    "df = pd.DataFrame(totalT)\n",
    "#print df\n",
    "aovrm = AnovaRM(df, 'response', 'subj_idx', within=['Sc'])\n",
    "fit = aovrm.fit()\n",
    "print fit\n",
    "p_eta_s = [] #compute partial eta squared \n",
    "p_eta_s.append((fit.anova_table['F Value'][0]*fit.anova_table['Num DF'][0])/((fit.anova_table['F Value'][0]*fit.anova_table['Num DF'][0])+fit.anova_table['Den DF'][0]))\n",
    "print 'p_eta_s = ', p_eta_s\n",
    "\n",
    "fig = plt.figure(figsize =(3,3))\n",
    "plt.ylim(0, 20)\n",
    "plt.yticks([0,10,20])\n",
    "plt.xticks([1,2,3])\n",
    "plt.xlabel(['low','med', 'high'])\n",
    "ax = plt.errorbar([1,2,3],totalT.groupby('Sc')['response'].mean(), totalT.groupby('Sc')['response'].sem(), fmt='--o', color='grey')"
   ]
  },
  {
   "cell_type": "code",
   "execution_count": 51,
   "metadata": {},
   "outputs": [
    {
     "name": "stdout",
     "output_type": "stream",
     "text": [
      "low-med error - t-stat = 3.405; p-val = 0.003.\n",
      "low-high error - t-stat = -2.752; p-val = 0.013.\n",
      "med-high error - t-stat = -4.493; p-val = 0.000.\n",
      "\n",
      "(array([ True,  True,  True], dtype=bool), array([ 0.00947366,  0.03933254,  0.00084405]), 0.016952427508441503, 0.016666666666666666)\n"
     ]
    }
   ],
   "source": [
    "low_vs_med = ttest_rel(totalT[totalT['Sc'] == 1]['response'], totalT[totalT['Sc'] == 2]['response'])\n",
    "low_vs_high = ttest_rel(totalT[totalT['Sc'] == 1]['response'], totalT[totalT['Sc'] == 3]['response'])\n",
    "med_vs_high = ttest_rel(totalT[totalT['Sc'] == 2]['response'], totalT[totalT['Sc'] == 3]['response'])\n",
    "stats =[low_vs_med[1], low_vs_high[1], med_vs_high[1]]\n",
    "print \"low-med error - t-stat = %.3f; p-val = %.3f.\" % low_vs_med\n",
    "print \"low-high error - t-stat = %.3f; p-val = %.3f.\" % low_vs_high\n",
    "print \"med-high error - t-stat = %.3f; p-val = %.3f.\\n\" % med_vs_high\n",
    "\n",
    "p_adjusted = multipletests(stats, method='bonferroni')\n",
    "print p_adjusted"
   ]
  },
  {
   "cell_type": "code",
   "execution_count": null,
   "metadata": {},
   "outputs": [],
   "source": []
  }
 ],
 "metadata": {
  "kernelspec": {
   "display_name": "rmaov_env",
   "language": "python",
   "name": "rmaov_env"
  },
  "language_info": {
   "codemirror_mode": {
    "name": "ipython",
    "version": 2
   },
   "file_extension": ".py",
   "mimetype": "text/x-python",
   "name": "python",
   "nbconvert_exporter": "python",
   "pygments_lexer": "ipython2",
   "version": "2.7.12"
  }
 },
 "nbformat": 4,
 "nbformat_minor": 2
}
